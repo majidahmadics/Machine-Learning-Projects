{
  "nbformat": 4,
  "nbformat_minor": 0,
  "metadata": {
    "colab": {
      "provenance": [],
      "authorship_tag": "ABX9TyPZ8prkJzD9DOL/FC4O1T25",
      "include_colab_link": true
    },
    "kernelspec": {
      "name": "python3",
      "display_name": "Python 3"
    },
    "language_info": {
      "name": "python"
    }
  },
  "cells": [
    {
      "cell_type": "markdown",
      "metadata": {
        "id": "view-in-github",
        "colab_type": "text"
      },
      "source": [
        "<a href=\"https://colab.research.google.com/github/majidahmadics/Machine-Learning-Projects/blob/main/RNN_for_Asset_Pricing/RNN_for_Asset_Pricing.ipynb\" target=\"_parent\"><img src=\"https://colab.research.google.com/assets/colab-badge.svg\" alt=\"Open In Colab\"/></a>"
      ]
    },
    {
      "cell_type": "code",
      "execution_count": 14,
      "metadata": {
        "id": "VMgUH_jZ_BeO"
      },
      "outputs": [],
      "source": [
        "import numpy as np\n",
        "import pandas as pd\n",
        "import yfinance as yf\n",
        "import matplotlib.pyplot as plt\n",
        "from sklearn.preprocessing import MinMaxScaler\n",
        "from tensorflow.keras.models import Sequential\n",
        "from tensorflow.keras.layers import Dense, SimpleRNN, Dropout"
      ]
    },
    {
      "cell_type": "code",
      "source": [
        "# Initialize\n",
        "ticker = \"AAPL\"\n",
        "start_date = \"2023-01-01\"\n",
        "end_date = \"2024-01-01\""
      ],
      "metadata": {
        "id": "EgafHqJq_eE2"
      },
      "execution_count": 15,
      "outputs": []
    },
    {
      "cell_type": "code",
      "source": [
        "# Step 1: Load and preprocess the data\n",
        "data = yf.download(ticker, start= start_date, end= end_date)\n",
        "prices = data['Close'].values.reshape(-1, 1)  # Assuming 'Close' column contains the prices\n",
        "scaler = MinMaxScaler(feature_range=(0, 1))\n",
        "scaled_prices = scaler.fit_transform(prices)"
      ],
      "metadata": {
        "colab": {
          "base_uri": "https://localhost:8080/"
        },
        "id": "jBk922fq_JSa",
        "outputId": "a39205f8-1821-4149-dbdd-e1178bf08cd0"
      },
      "execution_count": 16,
      "outputs": [
        {
          "output_type": "stream",
          "name": "stderr",
          "text": [
            "\r[*********************100%%**********************]  1 of 1 completed\n"
          ]
        }
      ]
    },
    {
      "cell_type": "code",
      "source": [
        "# Step 2: Prepare the data for training\n",
        "window_size = 20  # Number of previous time steps to consider\n",
        "X, y = [], []\n",
        "for i in range(window_size, len(scaled_prices)):\n",
        "    X.append(scaled_prices[i - window_size:i, 0])\n",
        "    y.append(scaled_prices[i, 0])\n",
        "X, y = np.array(X), np.array(y)\n",
        "\n",
        "# Reshape input data for RNN\n",
        "X = np.reshape(X, (X.shape[0], X.shape[1], 1))"
      ],
      "metadata": {
        "id": "fYJPKsCBBOJj"
      },
      "execution_count": 17,
      "outputs": []
    },
    {
      "cell_type": "code",
      "source": [
        "# Step 3: Define the RNN model\n",
        "model = Sequential([\n",
        "    SimpleRNN(units=50, return_sequences=True, input_shape=(X.shape[1], 1)),\n",
        "    Dropout(0.2),\n",
        "    SimpleRNN(units=50),\n",
        "    Dropout(0.2),\n",
        "    Dense(units=1)\n",
        "])"
      ],
      "metadata": {
        "id": "eOjns_I-BkmT"
      },
      "execution_count": 18,
      "outputs": []
    },
    {
      "cell_type": "code",
      "source": [
        "# Step 4: Compile the model\n",
        "model.compile(optimizer='adam', loss='mean_squared_error')"
      ],
      "metadata": {
        "id": "LFnoZZahByUk"
      },
      "execution_count": 19,
      "outputs": []
    },
    {
      "cell_type": "code",
      "source": [
        "# Step 5: Train the model\n",
        "model.fit(X, y, epochs=50, batch_size=32)"
      ],
      "metadata": {
        "colab": {
          "base_uri": "https://localhost:8080/"
        },
        "id": "53IvZd8vB0_L",
        "outputId": "0ac35704-f646-4714-d3a8-59f5ef8a9582"
      },
      "execution_count": 20,
      "outputs": [
        {
          "output_type": "stream",
          "name": "stdout",
          "text": [
            "Epoch 1/50\n",
            "8/8 [==============================] - 3s 14ms/step - loss: 1.4099\n",
            "Epoch 2/50\n",
            "8/8 [==============================] - 0s 14ms/step - loss: 0.3644\n",
            "Epoch 3/50\n",
            "8/8 [==============================] - 0s 13ms/step - loss: 0.1616\n",
            "Epoch 4/50\n",
            "8/8 [==============================] - 0s 13ms/step - loss: 0.1549\n",
            "Epoch 5/50\n",
            "8/8 [==============================] - 0s 14ms/step - loss: 0.1178\n",
            "Epoch 6/50\n",
            "8/8 [==============================] - 0s 14ms/step - loss: 0.0970\n",
            "Epoch 7/50\n",
            "8/8 [==============================] - 0s 13ms/step - loss: 0.0828\n",
            "Epoch 8/50\n",
            "8/8 [==============================] - 0s 13ms/step - loss: 0.0780\n",
            "Epoch 9/50\n",
            "8/8 [==============================] - 0s 13ms/step - loss: 0.0850\n",
            "Epoch 10/50\n",
            "8/8 [==============================] - 0s 12ms/step - loss: 0.0730\n",
            "Epoch 11/50\n",
            "8/8 [==============================] - 0s 12ms/step - loss: 0.0614\n",
            "Epoch 12/50\n",
            "8/8 [==============================] - 0s 11ms/step - loss: 0.0481\n",
            "Epoch 13/50\n",
            "8/8 [==============================] - 0s 10ms/step - loss: 0.0509\n",
            "Epoch 14/50\n",
            "8/8 [==============================] - 0s 10ms/step - loss: 0.0420\n",
            "Epoch 15/50\n",
            "8/8 [==============================] - 0s 11ms/step - loss: 0.0421\n",
            "Epoch 16/50\n",
            "8/8 [==============================] - 0s 13ms/step - loss: 0.0456\n",
            "Epoch 17/50\n",
            "8/8 [==============================] - 0s 11ms/step - loss: 0.0470\n",
            "Epoch 18/50\n",
            "8/8 [==============================] - 0s 11ms/step - loss: 0.0434\n",
            "Epoch 19/50\n",
            "8/8 [==============================] - 0s 11ms/step - loss: 0.0391\n",
            "Epoch 20/50\n",
            "8/8 [==============================] - 0s 11ms/step - loss: 0.0455\n",
            "Epoch 21/50\n",
            "8/8 [==============================] - 0s 11ms/step - loss: 0.0356\n",
            "Epoch 22/50\n",
            "8/8 [==============================] - 0s 12ms/step - loss: 0.0331\n",
            "Epoch 23/50\n",
            "8/8 [==============================] - 0s 12ms/step - loss: 0.0315\n",
            "Epoch 24/50\n",
            "8/8 [==============================] - 0s 13ms/step - loss: 0.0373\n",
            "Epoch 25/50\n",
            "8/8 [==============================] - 0s 13ms/step - loss: 0.0359\n",
            "Epoch 26/50\n",
            "8/8 [==============================] - 0s 14ms/step - loss: 0.0293\n",
            "Epoch 27/50\n",
            "8/8 [==============================] - 0s 13ms/step - loss: 0.0297\n",
            "Epoch 28/50\n",
            "8/8 [==============================] - 0s 13ms/step - loss: 0.0302\n",
            "Epoch 29/50\n",
            "8/8 [==============================] - 0s 12ms/step - loss: 0.0335\n",
            "Epoch 30/50\n",
            "8/8 [==============================] - 0s 12ms/step - loss: 0.0241\n",
            "Epoch 31/50\n",
            "8/8 [==============================] - 0s 11ms/step - loss: 0.0295\n",
            "Epoch 32/50\n",
            "8/8 [==============================] - 0s 10ms/step - loss: 0.0315\n",
            "Epoch 33/50\n",
            "8/8 [==============================] - 0s 11ms/step - loss: 0.0263\n",
            "Epoch 34/50\n",
            "8/8 [==============================] - 0s 11ms/step - loss: 0.0264\n",
            "Epoch 35/50\n",
            "8/8 [==============================] - 0s 11ms/step - loss: 0.0252\n",
            "Epoch 36/50\n",
            "8/8 [==============================] - 0s 12ms/step - loss: 0.0287\n",
            "Epoch 37/50\n",
            "8/8 [==============================] - 0s 11ms/step - loss: 0.0187\n",
            "Epoch 38/50\n",
            "8/8 [==============================] - 0s 11ms/step - loss: 0.0252\n",
            "Epoch 39/50\n",
            "8/8 [==============================] - 0s 11ms/step - loss: 0.0226\n",
            "Epoch 40/50\n",
            "8/8 [==============================] - 0s 11ms/step - loss: 0.0235\n",
            "Epoch 41/50\n",
            "8/8 [==============================] - 0s 11ms/step - loss: 0.0207\n",
            "Epoch 42/50\n",
            "8/8 [==============================] - 0s 11ms/step - loss: 0.0201\n",
            "Epoch 43/50\n",
            "8/8 [==============================] - 0s 11ms/step - loss: 0.0205\n",
            "Epoch 44/50\n",
            "8/8 [==============================] - 0s 11ms/step - loss: 0.0180\n",
            "Epoch 45/50\n",
            "8/8 [==============================] - 0s 10ms/step - loss: 0.0231\n",
            "Epoch 46/50\n",
            "8/8 [==============================] - 0s 11ms/step - loss: 0.0196\n",
            "Epoch 47/50\n",
            "8/8 [==============================] - 0s 10ms/step - loss: 0.0181\n",
            "Epoch 48/50\n",
            "8/8 [==============================] - 0s 11ms/step - loss: 0.0170\n",
            "Epoch 49/50\n",
            "8/8 [==============================] - 0s 11ms/step - loss: 0.0199\n",
            "Epoch 50/50\n",
            "8/8 [==============================] - 0s 11ms/step - loss: 0.0194\n"
          ]
        },
        {
          "output_type": "execute_result",
          "data": {
            "text/plain": [
              "<keras.src.callbacks.History at 0x792a29c59420>"
            ]
          },
          "metadata": {},
          "execution_count": 20
        }
      ]
    },
    {
      "cell_type": "code",
      "source": [
        "# Step 6: Make predictions\n",
        "predictions = model.predict(X)"
      ],
      "metadata": {
        "colab": {
          "base_uri": "https://localhost:8080/"
        },
        "id": "EvOHFWEFB8uy",
        "outputId": "7fae0798-55f7-48cf-a523-90f00da08306"
      },
      "execution_count": 21,
      "outputs": [
        {
          "output_type": "stream",
          "name": "stdout",
          "text": [
            "8/8 [==============================] - 0s 5ms/step\n"
          ]
        }
      ]
    },
    {
      "cell_type": "code",
      "source": [
        "predicted_prices = scaler.inverse_transform(predictions)"
      ],
      "metadata": {
        "id": "K_-mFudfCARr"
      },
      "execution_count": 22,
      "outputs": []
    },
    {
      "cell_type": "code",
      "source": [
        "# Step 8: Visualize the results\n",
        "plt.plot(prices, color='blue', label='Actual Prices')\n",
        "plt.plot(predicted_prices, color='red', label='Predicted Prices')\n",
        "plt.title('Asset Pricing Prediction with RNN')\n",
        "plt.xlabel('Time')\n",
        "plt.ylabel('Price')\n",
        "plt.legend()\n",
        "plt.show()"
      ],
      "metadata": {
        "colab": {
          "base_uri": "https://localhost:8080/",
          "height": 472
        },
        "id": "IZqOxFQmCEQP",
        "outputId": "18df1310-c5fe-4064-d100-0349566ab185"
      },
      "execution_count": 25,
      "outputs": [
        {
          "output_type": "display_data",
          "data": {
            "text/plain": [
              "<Figure size 640x480 with 1 Axes>"
            ],
            "image/png": "[encoded data removed]"
          },
          "metadata": {}
        }
      ]
    },
    {
      "cell_type": "code",
      "source": [
        "from sklearn.metrics import mean_absolute_error, mean_squared_error"
      ],
      "metadata": {
        "id": "dzRLLARJCaXL"
      },
      "execution_count": 24,
      "outputs": []
    },
    {
      "cell_type": "code",
      "source": [
        "# Step 9: Evaluate the model\n",
        "mae = mean_absolute_error(prices[window_size:], predicted_prices)\n",
        "mse = mean_squared_error(prices[window_size:], predicted_prices)\n",
        "rmse = np.sqrt(mse)\n",
        "\n",
        "print(\"Mean Absolute Error (MAE):\", mae)\n",
        "print(\"Mean Squared Error (MSE):\", mse)\n",
        "print(\"Root Mean Squared Error (RMSE):\", rmse)"
      ],
      "metadata": {
        "colab": {
          "base_uri": "https://localhost:8080/"
        },
        "id": "8EBaUTywCe6q",
        "outputId": "99557512-9264-4629-beb5-b33821737c7e"
      },
      "execution_count": 26,
      "outputs": [
        {
          "output_type": "stream",
          "name": "stdout",
          "text": [
            "Mean Absolute Error (MAE): 2.8645970883576766\n",
            "Mean Squared Error (MSE): 14.278627500272073\n",
            "Root Mean Squared Error (RMSE): 3.7787071202028972\n"
          ]
        }
      ]
    },
    {
      "cell_type": "code",
      "source": [
        "# Calculate the range of the target variable\n",
        "price_range = np.max(prices) - np.min(prices)\n",
        "\n",
        "# Normalize the error metrics\n",
        "normalized_mae = mae / price_range\n",
        "normalized_mse = mse / (price_range ** 2)\n",
        "normalized_rmse = rmse / price_range\n",
        "\n",
        "print(\"Normalized Mean Absolute Error (NMAE):\", normalized_mae)\n",
        "print(\"Normalized Mean Squared Error (NMSE):\", normalized_mse)\n",
        "print(\"Normalized Root Mean Squared Error (NRMSE):\", normalized_rmse)"
      ],
      "metadata": {
        "colab": {
          "base_uri": "https://localhost:8080/"
        },
        "id": "2_SAcA4UCuTE",
        "outputId": "0453ce03-31b2-456a-f153-ed3817b0ddc2"
      },
      "execution_count": 27,
      "outputs": [
        {
          "output_type": "stream",
          "name": "stdout",
          "text": [
            "Normalized Mean Absolute Error (NMAE): 0.039192734065794564\n",
            "Normalized Mean Squared Error (NMSE): 0.0026728248043516507\n",
            "Normalized Root Mean Squared Error (NRMSE): 0.0516993694773123\n"
          ]
        }
      ]
    }
  ]
}