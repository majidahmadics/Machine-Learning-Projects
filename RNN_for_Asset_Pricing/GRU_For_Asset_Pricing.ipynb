{
  "nbformat": 4,
  "nbformat_minor": 0,
  "metadata": {
    "colab": {
      "provenance": [],
      "authorship_tag": "ABX9TyPpRzFYFm9KtKcvglutdlkd",
      "include_colab_link": true
    },
    "kernelspec": {
      "name": "python3",
      "display_name": "Python 3"
    },
    "language_info": {
      "name": "python"
    }
  },
  "cells": [
    {
      "cell_type": "markdown",
      "metadata": {
        "id": "view-in-github",
        "colab_type": "text"
      },
      "source": [
        "<a href=\"https://colab.research.google.com/github/majidahmadics/Machine-Learning-Projects/blob/main/RNN_for_Asset_Pricing/GRU_For_Asset_Pricing.ipynb\" target=\"_parent\"><img src=\"https://colab.research.google.com/assets/colab-badge.svg\" alt=\"Open In Colab\"/></a>"
      ]
    },
    {
      "cell_type": "code",
      "execution_count": 5,
      "metadata": {
        "id": "_aNikS7Q62SK"
      },
      "outputs": [],
      "source": [
        "import yfinance as yf\n",
        "import numpy as np\n",
        "import pandas as pd\n",
        "from sklearn.preprocessing import MinMaxScaler\n",
        "from sklearn.metrics import mean_squared_error\n",
        "from keras.models import Sequential\n",
        "from keras.layers import GRU, Dense\n",
        "import plotly.graph_objects as go"
      ]
    },
    {
      "cell_type": "code",
      "source": [
        "# Initialize\n",
        "ticker = \"AAPL\"\n",
        "start_date = \"2023-01-01\"\n",
        "end_date = \"2024-01-01\""
      ],
      "metadata": {
        "id": "1v15u5ZL653i"
      },
      "execution_count": 6,
      "outputs": []
    },
    {
      "cell_type": "code",
      "source": [
        "# Step 1: Data Collection\n",
        "def fetch_stock_data(ticker, start_date, end_date):\n",
        "  # Fetch the data\n",
        "  stock_data = yf.download(ticker, start=start_date, end=end_date)\n",
        "  return stock_data\n",
        "\n",
        "# Step 2: Data Preprocessing\n",
        "def preprocess_data(data, seq_length):\n",
        "  # Normalize the data\n",
        "  scaler = MinMaxScaler(feature_range=(0, 1))\n",
        "  scaled_data = scaler.fit_transform(data.reshape(-1, 1))\n",
        "\n",
        "  # Create sequences for training and testing\n",
        "  sequences = []\n",
        "  for i in range(len(scaled_data) - seq_length):\n",
        "      sequence = scaled_data[i:i+seq_length]\n",
        "      sequences.append(sequence)\n",
        "\n",
        "  sequences = np.array(sequences)\n",
        "  # Split the sequences into input features and target labels\n",
        "  X = sequences[:, :-1]\n",
        "  y = sequences[:, -1]\n",
        "\n",
        "  # Split the data into training and testing sets\n",
        "  train_size = int(len(sequences) * 0.80)\n",
        "  X_train, X_test = X[:train_size], X[train_size:]\n",
        "  y_train, y_test = y[:train_size], y[train_size:]\n",
        "\n",
        "  return X_train, X_test, y_train, y_test, scaler\n",
        "\n",
        "# Step 3: Model Building\n",
        "def build_gru_model(input_shape):\n",
        "  model = Sequential()\n",
        "  model.add(GRU(units=50, input_shape=input_shape))\n",
        "  model.add(Dense(units=1))\n",
        "  model.compile(optimizer='adam', loss='mean_squared_error')\n",
        "  return model\n",
        "\n",
        "# Step 4: Model Training\n",
        "def train_model(model, X_train, y_train, epochs=100, batch_size=32):\n",
        "  model.fit(X_train, y_train, epochs=epochs, batch_size=batch_size, verbose=1)\n",
        "\n",
        "# Step 5: Model Evaluation\n",
        "def evaluate_model(model, X_test, y_test, scaler):\n",
        "  # Make predictions\n",
        "  predictions = model.predict(X_test)\n",
        "  predictions = scaler.inverse_transform(predictions)\n",
        "  y_test = scaler.inverse_transform(y_test.reshape(-1, 1))\n",
        "\n",
        "  # Calculate RMSE\n",
        "  rmse = np.sqrt(mean_squared_error(y_test, predictions))\n",
        "  return rmse, predictions, y_test"
      ],
      "metadata": {
        "id": "u-vEHO-v7d_L"
      },
      "execution_count": 7,
      "outputs": []
    },
    {
      "cell_type": "code",
      "source": [
        "# Main function\n",
        "def main():\n",
        "  # Step 1: Data Collection\n",
        "  stock_data = fetch_stock_data(ticker, start_date, end_date)\n",
        "\n",
        "  # Step 2: Data Preprocessing\n",
        "  seq_length = 10\n",
        "  X_train, X_test, y_train, y_test, scaler = preprocess_data(stock_data['Close'].values, seq_length)\n",
        "\n",
        "  # Step 3: Model Building\n",
        "  input_shape = (X_train.shape[1], X_train.shape[2])  # Shape of input for GRU\n",
        "  model = build_gru_model(input_shape)\n",
        "\n",
        "  # Step 4: Model Training\n",
        "  train_model(model, X_train, y_train)\n",
        "\n",
        "  # Step 5: Model Evaluation\n",
        "  rmse, predictions, actual = evaluate_model(model, X_test, y_test, scaler)\n",
        "  print(\"Test RMSE:\", rmse)\n",
        "\n",
        "  # Calculate accuracy between 0 and 1\n",
        "  accuracy = 1 / (1 + rmse)  # Simple formula for converting RMSE to accuracy\n",
        "  print(\"Accuracy:\", accuracy)\n",
        "\n",
        "  # Plot the actual and predicted data\n",
        "  fig = go.Figure()\n",
        "  fig.add_trace(go.Scatter(x=stock_data.index[-len(predictions):], y=actual.flatten(), mode='lines', name='Actual'))\n",
        "  fig.add_trace(go.Scatter(x=stock_data.index[-len(predictions):], y=predictions.flatten(), mode='lines', name='Predicted'))\n",
        "  fig.update_layout(title='Actual vs. Predicted Stock Prices', xaxis_title='Date', yaxis_title='Price')\n",
        "  fig.show()\n",
        "\n",
        "if __name__ == \"__main__\":\n",
        "  main()"
      ],
      "metadata": {
        "id": "KMLjCvSj7fDb"
      },
      "execution_count": null,
      "outputs": []
    }
  ]
}