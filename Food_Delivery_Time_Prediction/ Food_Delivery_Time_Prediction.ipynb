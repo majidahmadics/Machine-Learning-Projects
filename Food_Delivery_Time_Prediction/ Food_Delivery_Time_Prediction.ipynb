{
  "nbformat": 4,
  "nbformat_minor": 0,
  "metadata": {
    "colab": {
      "provenance": [],
      "authorship_tag": "ABX9TyMzEuzkGhABtgayM+kTOUz3",
      "include_colab_link": true
    },
    "kernelspec": {
      "name": "python3",
      "display_name": "Python 3"
    },
    "language_info": {
      "name": "python"
    }
  },
  "cells": [
    {
      "cell_type": "markdown",
      "metadata": {
        "id": "view-in-github",
        "colab_type": "text"
      },
      "source": [
        "<a href=\"https://colab.research.google.com/github/majidahmadics/Machine-Learning-Projects/blob/main/Food_Delivery_Time_Prediction/%20Food_Delivery_Time_Prediction.ipynb\" target=\"_parent\"><img src=\"https://colab.research.google.com/assets/colab-badge.svg\" alt=\"Open In Colab\"/></a>"
      ]
    },
    {
      "cell_type": "code",
      "execution_count": 2,
      "metadata": {
        "colab": {
          "base_uri": "https://localhost:8080/"
        },
        "id": "MG2TysWB-caQ",
        "outputId": "56b49c14-2083-49f4-e9ff-c2cefd1b2180"
      },
      "outputs": [
        {
          "output_type": "stream",
          "name": "stdout",
          "text": [
            "     ID Delivery_person_ID  Delivery_person_Age  Delivery_person_Ratings  \\\n",
            "0  4607     INDORES13DEL02                   37                      4.9   \n",
            "1  B379     BANGRES18DEL02                   34                      4.5   \n",
            "2  5D6D     BANGRES19DEL01                   23                      4.4   \n",
            "3  7A6A    COIMBRES13DEL02                   38                      4.7   \n",
            "4  70A2     CHENRES12DEL01                   32                      4.6   \n",
            "\n",
            "   Restaurant_latitude  Restaurant_longitude  Delivery_location_latitude  \\\n",
            "0            22.745049             75.892471                   22.765049   \n",
            "1            12.913041             77.683237                   13.043041   \n",
            "2            12.914264             77.678400                   12.924264   \n",
            "3            11.003669             76.976494                   11.053669   \n",
            "4            12.972793             80.249982                   13.012793   \n",
            "\n",
            "   Delivery_location_longitude Type_of_order Type_of_vehicle  Time_taken(min)  \n",
            "0                    75.912471        Snack      motorcycle                24  \n",
            "1                    77.813237        Snack         scooter                33  \n",
            "2                    77.688400       Drinks      motorcycle                26  \n",
            "3                    77.026494       Buffet      motorcycle                21  \n",
            "4                    80.289982        Snack         scooter                30  \n"
          ]
        }
      ],
      "source": [
        "# importing the necessary Python libraries and the dataset\n",
        "\n",
        "import pandas as pd\n",
        "import numpy as np\n",
        "import plotly.express as px\n",
        "\n",
        "data = pd.read_csv(\"deliverytime.txt\")\n",
        "print(data.head())"
      ]
    },
    {
      "cell_type": "code",
      "source": [
        "# column insights\n",
        "data.info()\n"
      ],
      "metadata": {
        "colab": {
          "base_uri": "https://localhost:8080/"
        },
        "id": "88Zw34PY_dVf",
        "outputId": "6574841c-b6c3-45d1-d4d5-caf98cd153e6"
      },
      "execution_count": 3,
      "outputs": [
        {
          "output_type": "stream",
          "name": "stdout",
          "text": [
            "<class 'pandas.core.frame.DataFrame'>\n",
            "RangeIndex: 45593 entries, 0 to 45592\n",
            "Data columns (total 11 columns):\n",
            " #   Column                       Non-Null Count  Dtype  \n",
            "---  ------                       --------------  -----  \n",
            " 0   ID                           45593 non-null  object \n",
            " 1   Delivery_person_ID           45593 non-null  object \n",
            " 2   Delivery_person_Age          45593 non-null  int64  \n",
            " 3   Delivery_person_Ratings      45593 non-null  float64\n",
            " 4   Restaurant_latitude          45593 non-null  float64\n",
            " 5   Restaurant_longitude         45593 non-null  float64\n",
            " 6   Delivery_location_latitude   45593 non-null  float64\n",
            " 7   Delivery_location_longitude  45593 non-null  float64\n",
            " 8   Type_of_order                45593 non-null  object \n",
            " 9   Type_of_vehicle              45593 non-null  object \n",
            " 10  Time_taken(min)              45593 non-null  int64  \n",
            "dtypes: float64(5), int64(2), object(4)\n",
            "memory usage: 3.8+ MB\n"
          ]
        }
      ]
    },
    {
      "cell_type": "code",
      "source": [
        "# Check for any null values\n",
        "\n",
        "data.isnull().sum()"
      ],
      "metadata": {
        "colab": {
          "base_uri": "https://localhost:8080/"
        },
        "id": "6gCCzSSFBWyr",
        "outputId": "2af39d7f-6f1d-4c7a-c171-a36c6f5c6f97"
      },
      "execution_count": 4,
      "outputs": [
        {
          "output_type": "execute_result",
          "data": {
            "text/plain": [
              "ID                             0\n",
              "Delivery_person_ID             0\n",
              "Delivery_person_Age            0\n",
              "Delivery_person_Ratings        0\n",
              "Restaurant_latitude            0\n",
              "Restaurant_longitude           0\n",
              "Delivery_location_latitude     0\n",
              "Delivery_location_longitude    0\n",
              "Type_of_order                  0\n",
              "Type_of_vehicle                0\n",
              "Time_taken(min)                0\n",
              "dtype: int64"
            ]
          },
          "metadata": {},
          "execution_count": 4
        }
      ]
    }
  ]
}